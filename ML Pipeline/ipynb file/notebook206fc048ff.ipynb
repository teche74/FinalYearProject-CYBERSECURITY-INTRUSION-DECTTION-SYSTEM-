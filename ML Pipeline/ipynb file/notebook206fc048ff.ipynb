{
 "cells": [
  {
   "cell_type": "markdown",
   "metadata": {
    "execution": {
     "iopub.execute_input": "2023-06-16T07:41:12.519995Z",
     "iopub.status.busy": "2023-06-16T07:41:12.5196Z",
     "iopub.status.idle": "2023-06-16T07:41:24.795763Z",
     "shell.execute_reply": "2023-06-16T07:41:24.79472Z",
     "shell.execute_reply.started": "2023-06-16T07:41:12.519963Z"
    }
   },
   "source": [
    "## Detecting Cyber Attacks using machine learning\n",
    "\n",
    "* To improve cyber security, machine learning algorithms can be implemented to detect cyber attacks.\n",
    "* The approach involves analyzing network data to identify potential attacks by identifying correlations between various variables. \n",
    "* By leveraging machine learning algorithms, the accuracy and efficiency of cyber attack detection can be improved. It will enhance the security of digital networks and systems."
   ]
  },
  {
   "cell_type": "markdown",
   "metadata": {},
   "source": [
    "## Cyber attack data\n",
    "\n",
    "* The data is collected by the University of New South Wales (Australia). That includes records of different types of cyber attacks. The dataset contains network packets captured in the Cyber Range Lab of UNSW Canberra. The data is provided in two sets of training and testing data.\n",
    "\n",
    "* The dataset includes nine types of attacks, including:\n",
    "\n",
    "1. Fuzzers: Attack that involves sending random data to a system to test its resilience and identify any vulnerabilities.\n",
    "\n",
    "2. Analysis: A type of attack that involves analyzing the system to identify its weaknesses and potential targets for exploitation.\n",
    "\n",
    "3. Backdoors: Attack that involves creating a hidden entry point into a system for later use by the attacker.\n",
    "\n",
    "4. DoS (Denial of Service): Attack that aims to disrupt the normal functioning of a system, making it unavailable to its users.\n",
    "\n",
    "5. Exploits: Attack that leverages a vulnerability in a system to gain unauthorized access or control.\n",
    "\n",
    "6. Generic: A catch-all category that includes a variety of different attack types that do not fit into the other categories.\n",
    "\n",
    "7. Reconnaissance: Attack that involves gathering information about a target system, such as its vulnerabilities and potential entry points, in preparation for a future attack.\n",
    "\n",
    "8. Shellcode: Attack that involves executing malicious code, typically in the form of shell scripts, on a target system.\n",
    "\n",
    "9. Worms: A type of malware that spreads itself automatically to other systems, often causing harm in the process.\n",
    "\n",
    "* These nine categories cover a wide range of attack types that can be used to exploit a system, and it is important to be aware of them to protect against potential security threats."
   ]
  },
  {
   "cell_type": "markdown",
   "metadata": {},
   "source": [
    "## Installing Libraries"
   ]
  },
  {
   "cell_type": "code",
   "execution_count": 1,
   "metadata": {
    "execution": {
     "iopub.execute_input": "2025-02-27T05:16:38.254383Z",
     "iopub.status.busy": "2025-02-27T05:16:38.254010Z",
     "iopub.status.idle": "2025-02-27T05:17:21.027229Z",
     "shell.execute_reply": "2025-02-27T05:17:21.026127Z",
     "shell.execute_reply.started": "2025-02-27T05:16:38.254347Z"
    },
    "trusted": true
   },
   "outputs": [
    {
     "name": "stdout",
     "output_type": "stream",
     "text": [
      "Requirement already satisfied: nbformat in c:\\users\\ujjwa\\anaconda3\\lib\\site-packages (5.3.0)\n",
      "Requirement already satisfied: jsonschema>=2.6 in c:\\users\\ujjwa\\anaconda3\\lib\\site-packages (from nbformat) (4.4.0)\n",
      "Requirement already satisfied: jupyter-core in c:\\users\\ujjwa\\anaconda3\\lib\\site-packages (from nbformat) (4.9.2)\n",
      "Requirement already satisfied: traitlets>=4.1 in c:\\users\\ujjwa\\anaconda3\\lib\\site-packages (from nbformat) (5.1.1)\n",
      "Requirement already satisfied: fastjsonschema in c:\\users\\ujjwa\\anaconda3\\lib\\site-packages (from nbformat) (2.15.1)\n",
      "Requirement already satisfied: attrs>=17.4.0 in c:\\users\\ujjwa\\anaconda3\\lib\\site-packages (from jsonschema>=2.6->nbformat) (21.4.0)\n",
      "Requirement already satisfied: pyrsistent!=0.17.0,!=0.17.1,!=0.17.2,>=0.14.0 in c:\\users\\ujjwa\\anaconda3\\lib\\site-packages (from jsonschema>=2.6->nbformat) (0.18.0)\n",
      "Requirement already satisfied: pywin32>=1.0 in c:\\users\\ujjwa\\anaconda3\\lib\\site-packages (from jupyter-core->nbformat) (302)\n"
     ]
    }
   ],
   "source": [
    "!pip install nbformat"
   ]
  },
  {
   "cell_type": "code",
   "execution_count": 2,
   "metadata": {
    "execution": {
     "iopub.execute_input": "2025-02-27T05:17:21.029774Z",
     "iopub.status.busy": "2025-02-27T05:17:21.029408Z",
     "iopub.status.idle": "2025-02-27T05:18:02.511630Z",
     "shell.execute_reply": "2025-02-27T05:18:02.510393Z",
     "shell.execute_reply.started": "2025-02-27T05:17:21.029745Z"
    },
    "trusted": true
   },
   "outputs": [
    {
     "name": "stdout",
     "output_type": "stream",
     "text": [
      "Collecting graphviz\n",
      "  Downloading graphviz-0.20.3-py3-none-any.whl (47 kB)\n",
      "Installing collected packages: graphviz\n",
      "Successfully installed graphviz-0.20.3\n"
     ]
    }
   ],
   "source": [
    "!pip install graphviz"
   ]
  },
  {
   "cell_type": "code",
   "execution_count": 3,
   "metadata": {
    "execution": {
     "iopub.execute_input": "2025-02-27T05:22:34.765552Z",
     "iopub.status.busy": "2025-02-27T05:22:34.765159Z"
    },
    "trusted": true
   },
   "outputs": [
    {
     "name": "stdout",
     "output_type": "stream",
     "text": [
      "Collecting dtreeviz\n",
      "  Downloading dtreeviz-2.2.2-py3-none-any.whl (91 kB)\n",
      "Collecting colour\n",
      "  Downloading colour-0.1.5-py2.py3-none-any.whl (23 kB)\n",
      "Requirement already satisfied: pytest in c:\\users\\ujjwa\\anaconda3\\lib\\site-packages (from dtreeviz) (7.1.1)\n",
      "Requirement already satisfied: pandas in c:\\users\\ujjwa\\anaconda3\\lib\\site-packages (from dtreeviz) (2.0.0)\n",
      "Requirement already satisfied: matplotlib in c:\\users\\ujjwa\\anaconda3\\lib\\site-packages (from dtreeviz) (3.5.1)\n",
      "Requirement already satisfied: numpy in c:\\users\\ujjwa\\anaconda3\\lib\\site-packages (from dtreeviz) (1.21.5)\n",
      "Requirement already satisfied: graphviz>=0.9 in c:\\users\\ujjwa\\anaconda3\\lib\\site-packages (from dtreeviz) (0.20.3)\n",
      "Requirement already satisfied: scikit-learn in c:\\users\\ujjwa\\anaconda3\\lib\\site-packages (from dtreeviz) (1.0.2)\n",
      "Requirement already satisfied: packaging>=20.0 in c:\\users\\ujjwa\\anaconda3\\lib\\site-packages (from matplotlib->dtreeviz) (21.3)\n",
      "Requirement already satisfied: cycler>=0.10 in c:\\users\\ujjwa\\anaconda3\\lib\\site-packages (from matplotlib->dtreeviz) (0.11.0)\n",
      "Requirement already satisfied: kiwisolver>=1.0.1 in c:\\users\\ujjwa\\anaconda3\\lib\\site-packages (from matplotlib->dtreeviz) (1.3.2)\n",
      "Requirement already satisfied: fonttools>=4.22.0 in c:\\users\\ujjwa\\anaconda3\\lib\\site-packages (from matplotlib->dtreeviz) (4.25.0)\n",
      "Requirement already satisfied: pyparsing>=2.2.1 in c:\\users\\ujjwa\\anaconda3\\lib\\site-packages (from matplotlib->dtreeviz) (3.0.4)\n",
      "Requirement already satisfied: pillow>=6.2.0 in c:\\users\\ujjwa\\anaconda3\\lib\\site-packages (from matplotlib->dtreeviz) (9.0.1)\n",
      "Requirement already satisfied: python-dateutil>=2.7 in c:\\users\\ujjwa\\anaconda3\\lib\\site-packages (from matplotlib->dtreeviz) (2.8.2)\n",
      "Requirement already satisfied: six>=1.5 in c:\\users\\ujjwa\\anaconda3\\lib\\site-packages (from python-dateutil>=2.7->matplotlib->dtreeviz) (1.16.0)\n",
      "Requirement already satisfied: tzdata>=2022.1 in c:\\users\\ujjwa\\anaconda3\\lib\\site-packages (from pandas->dtreeviz) (2023.3)\n",
      "Requirement already satisfied: pytz>=2020.1 in c:\\users\\ujjwa\\anaconda3\\lib\\site-packages (from pandas->dtreeviz) (2021.3)\n",
      "Requirement already satisfied: attrs>=19.2.0 in c:\\users\\ujjwa\\anaconda3\\lib\\site-packages (from pytest->dtreeviz) (21.4.0)\n",
      "Requirement already satisfied: iniconfig in c:\\users\\ujjwa\\anaconda3\\lib\\site-packages (from pytest->dtreeviz) (1.1.1)\n",
      "Requirement already satisfied: pluggy<2.0,>=0.12 in c:\\users\\ujjwa\\anaconda3\\lib\\site-packages (from pytest->dtreeviz) (1.0.0)\n",
      "Requirement already satisfied: py>=1.8.2 in c:\\users\\ujjwa\\anaconda3\\lib\\site-packages (from pytest->dtreeviz) (1.11.0)\n",
      "Requirement already satisfied: tomli>=1.0.0 in c:\\users\\ujjwa\\anaconda3\\lib\\site-packages (from pytest->dtreeviz) (1.2.2)\n",
      "Requirement already satisfied: atomicwrites>=1.0 in c:\\users\\ujjwa\\anaconda3\\lib\\site-packages (from pytest->dtreeviz) (1.4.0)\n",
      "Requirement already satisfied: colorama in c:\\users\\ujjwa\\anaconda3\\lib\\site-packages (from pytest->dtreeviz) (0.4.4)\n",
      "Requirement already satisfied: threadpoolctl>=2.0.0 in c:\\users\\ujjwa\\anaconda3\\lib\\site-packages (from scikit-learn->dtreeviz) (2.2.0)\n",
      "Requirement already satisfied: scipy>=1.1.0 in c:\\users\\ujjwa\\anaconda3\\lib\\site-packages (from scikit-learn->dtreeviz) (1.7.3)\n",
      "Requirement already satisfied: joblib>=0.11 in c:\\users\\ujjwa\\anaconda3\\lib\\site-packages (from scikit-learn->dtreeviz) (1.1.0)\n",
      "Installing collected packages: colour, dtreeviz\n",
      "Successfully installed colour-0.1.5 dtreeviz-2.2.2\n"
     ]
    }
   ],
   "source": [
    "!pip install dtreeviz"
   ]
  },
  {
   "cell_type": "code",
   "execution_count": 2,
   "metadata": {
    "execution": {
     "iopub.execute_input": "2025-02-27T05:21:56.170570Z",
     "iopub.status.busy": "2025-02-27T05:21:56.170246Z",
     "iopub.status.idle": "2025-02-27T05:21:57.352196Z",
     "shell.execute_reply": "2025-02-27T05:21:57.350749Z",
     "shell.execute_reply.started": "2025-02-27T05:21:56.170538Z"
    },
    "trusted": true
   },
   "outputs": [],
   "source": [
    "import warnings\n",
    "warnings.filterwarnings('ignore')\n",
    "\n",
    "import numpy as np\n",
    "import pandas as pd\n",
    "import matplotlib.pyplot as plt\n",
    "import seaborn as sns\n",
    "%matplotlib inline\n",
    "\n",
    "sns.set_context('notebook')\n",
    "sns.set_style('white')\n",
    "\n",
    "import dtreeviz"
   ]
  },
  {
   "cell_type": "markdown",
   "metadata": {},
   "source": [
    "## Data Preparation"
   ]
  },
  {
   "cell_type": "code",
   "execution_count": 3,
   "metadata": {
    "execution": {
     "iopub.execute_input": "2023-06-23T05:10:48.787472Z",
     "iopub.status.busy": "2023-06-23T05:10:48.787135Z",
     "iopub.status.idle": "2023-06-23T05:10:50.002055Z",
     "shell.execute_reply": "2023-06-23T05:10:49.9986Z",
     "shell.execute_reply.started": "2023-06-23T05:10:48.787443Z"
    },
    "trusted": true
   },
   "outputs": [
    {
     "name": "stdout",
     "output_type": "stream",
     "text": [
      "training  (82332, 45)\n",
      "testing  (175341, 45)\n"
     ]
    }
   ],
   "source": [
    "training = pd.read_csv(\"C:\\\\Users\\\\ujjwa\\\\Desktop\\\\CyberSec Project\\\\RealTimeNetworkIntrusionDetectionSystem\\\\DataCollection\\\\data_collected\\\\Training_Testing_Data\\\\UNSW_NB15_training-set.csv\")\n",
    "testing = pd.read_csv(\"C:\\\\Users\\\\ujjwa\\\\Desktop\\\\CyberSec Project\\\\RealTimeNetworkIntrusionDetectionSystem\\\\DataCollection\\\\data_collected\\\\Training_Testing_Data\\\\UNSW_NB15_testing-set.csv\")\n",
    "print(\"training \",training.shape)\n",
    "print(\"testing \",testing.shape)"
   ]
  },
  {
   "cell_type": "code",
   "execution_count": 10,
   "metadata": {
    "execution": {
     "iopub.execute_input": "2023-06-23T05:10:50.005061Z",
     "iopub.status.busy": "2023-06-23T05:10:50.004243Z",
     "iopub.status.idle": "2023-06-23T05:10:50.014488Z",
     "shell.execute_reply": "2023-06-23T05:10:50.013018Z",
     "shell.execute_reply.started": "2023-06-23T05:10:50.005021Z"
    },
    "trusted": true
   },
   "outputs": [
    {
     "data": {
      "text/plain": [
       "True"
      ]
     },
     "execution_count": 10,
     "metadata": {},
     "output_type": "execute_result"
    }
   ],
   "source": [
    "all(training.columns == testing.columns)"
   ]
  },
  {
   "cell_type": "code",
   "execution_count": 4,
   "metadata": {},
   "outputs": [
    {
     "name": "stdout",
     "output_type": "stream",
     "text": [
      "Index(['id', 'dur', 'proto', 'service', 'state', 'spkts', 'dpkts', 'sbytes',\n",
      "       'dbytes', 'rate', 'sttl', 'dttl', 'sload', 'dload', 'sloss', 'dloss',\n",
      "       'sinpkt', 'dinpkt', 'sjit', 'djit', 'swin', 'stcpb', 'dtcpb', 'dwin',\n",
      "       'tcprtt', 'synack', 'ackdat', 'smean', 'dmean', 'trans_depth',\n",
      "       'response_body_len', 'ct_srv_src', 'ct_state_ttl', 'ct_dst_ltm',\n",
      "       'ct_src_dport_ltm', 'ct_dst_sport_ltm', 'ct_dst_src_ltm',\n",
      "       'is_ftp_login', 'ct_ftp_cmd', 'ct_flw_http_mthd', 'ct_src_ltm',\n",
      "       'ct_srv_dst', 'is_sm_ips_ports', 'attack_cat', 'label'],\n",
      "      dtype='object')\n"
     ]
    }
   ],
   "source": [
    "print(training.columns)"
   ]
  },
  {
   "cell_type": "code",
   "execution_count": 11,
   "metadata": {
    "execution": {
     "iopub.execute_input": "2023-06-23T05:10:50.016103Z",
     "iopub.status.busy": "2023-06-23T05:10:50.015737Z",
     "iopub.status.idle": "2023-06-23T05:10:50.257124Z",
     "shell.execute_reply": "2023-06-23T05:10:50.255931Z",
     "shell.execute_reply.started": "2023-06-23T05:10:50.016071Z"
    },
    "trusted": true
   },
   "outputs": [
    {
     "data": {
      "text/html": [
       "<div>\n",
       "<style scoped>\n",
       "    .dataframe tbody tr th:only-of-type {\n",
       "        vertical-align: middle;\n",
       "    }\n",
       "\n",
       "    .dataframe tbody tr th {\n",
       "        vertical-align: top;\n",
       "    }\n",
       "\n",
       "    .dataframe thead th {\n",
       "        text-align: right;\n",
       "    }\n",
       "</style>\n",
       "<table border=\"1\" class=\"dataframe\">\n",
       "  <thead>\n",
       "    <tr style=\"text-align: right;\">\n",
       "      <th></th>\n",
       "      <th>dur</th>\n",
       "      <th>proto</th>\n",
       "      <th>service</th>\n",
       "      <th>state</th>\n",
       "      <th>spkts</th>\n",
       "      <th>dpkts</th>\n",
       "      <th>sbytes</th>\n",
       "      <th>dbytes</th>\n",
       "      <th>rate</th>\n",
       "      <th>sttl</th>\n",
       "      <th>...</th>\n",
       "      <th>ct_dst_sport_ltm</th>\n",
       "      <th>ct_dst_src_ltm</th>\n",
       "      <th>is_ftp_login</th>\n",
       "      <th>ct_ftp_cmd</th>\n",
       "      <th>ct_flw_http_mthd</th>\n",
       "      <th>ct_src_ltm</th>\n",
       "      <th>ct_srv_dst</th>\n",
       "      <th>is_sm_ips_ports</th>\n",
       "      <th>attack_cat</th>\n",
       "      <th>label</th>\n",
       "    </tr>\n",
       "  </thead>\n",
       "  <tbody>\n",
       "    <tr>\n",
       "      <th>0</th>\n",
       "      <td>0.000011</td>\n",
       "      <td>udp</td>\n",
       "      <td>-</td>\n",
       "      <td>INT</td>\n",
       "      <td>2</td>\n",
       "      <td>0</td>\n",
       "      <td>496</td>\n",
       "      <td>0</td>\n",
       "      <td>90909.0902</td>\n",
       "      <td>254</td>\n",
       "      <td>...</td>\n",
       "      <td>1</td>\n",
       "      <td>2</td>\n",
       "      <td>0</td>\n",
       "      <td>0</td>\n",
       "      <td>0</td>\n",
       "      <td>1</td>\n",
       "      <td>2</td>\n",
       "      <td>0</td>\n",
       "      <td>Normal</td>\n",
       "      <td>0</td>\n",
       "    </tr>\n",
       "    <tr>\n",
       "      <th>1</th>\n",
       "      <td>0.000008</td>\n",
       "      <td>udp</td>\n",
       "      <td>-</td>\n",
       "      <td>INT</td>\n",
       "      <td>2</td>\n",
       "      <td>0</td>\n",
       "      <td>1762</td>\n",
       "      <td>0</td>\n",
       "      <td>125000.0003</td>\n",
       "      <td>254</td>\n",
       "      <td>...</td>\n",
       "      <td>1</td>\n",
       "      <td>2</td>\n",
       "      <td>0</td>\n",
       "      <td>0</td>\n",
       "      <td>0</td>\n",
       "      <td>1</td>\n",
       "      <td>2</td>\n",
       "      <td>0</td>\n",
       "      <td>Normal</td>\n",
       "      <td>0</td>\n",
       "    </tr>\n",
       "    <tr>\n",
       "      <th>2</th>\n",
       "      <td>0.000005</td>\n",
       "      <td>udp</td>\n",
       "      <td>-</td>\n",
       "      <td>INT</td>\n",
       "      <td>2</td>\n",
       "      <td>0</td>\n",
       "      <td>1068</td>\n",
       "      <td>0</td>\n",
       "      <td>200000.0051</td>\n",
       "      <td>254</td>\n",
       "      <td>...</td>\n",
       "      <td>1</td>\n",
       "      <td>3</td>\n",
       "      <td>0</td>\n",
       "      <td>0</td>\n",
       "      <td>0</td>\n",
       "      <td>1</td>\n",
       "      <td>3</td>\n",
       "      <td>0</td>\n",
       "      <td>Normal</td>\n",
       "      <td>0</td>\n",
       "    </tr>\n",
       "    <tr>\n",
       "      <th>3</th>\n",
       "      <td>0.000006</td>\n",
       "      <td>udp</td>\n",
       "      <td>-</td>\n",
       "      <td>INT</td>\n",
       "      <td>2</td>\n",
       "      <td>0</td>\n",
       "      <td>900</td>\n",
       "      <td>0</td>\n",
       "      <td>166666.6608</td>\n",
       "      <td>254</td>\n",
       "      <td>...</td>\n",
       "      <td>1</td>\n",
       "      <td>3</td>\n",
       "      <td>0</td>\n",
       "      <td>0</td>\n",
       "      <td>0</td>\n",
       "      <td>2</td>\n",
       "      <td>3</td>\n",
       "      <td>0</td>\n",
       "      <td>Normal</td>\n",
       "      <td>0</td>\n",
       "    </tr>\n",
       "    <tr>\n",
       "      <th>4</th>\n",
       "      <td>0.000010</td>\n",
       "      <td>udp</td>\n",
       "      <td>-</td>\n",
       "      <td>INT</td>\n",
       "      <td>2</td>\n",
       "      <td>0</td>\n",
       "      <td>2126</td>\n",
       "      <td>0</td>\n",
       "      <td>100000.0025</td>\n",
       "      <td>254</td>\n",
       "      <td>...</td>\n",
       "      <td>1</td>\n",
       "      <td>3</td>\n",
       "      <td>0</td>\n",
       "      <td>0</td>\n",
       "      <td>0</td>\n",
       "      <td>2</td>\n",
       "      <td>3</td>\n",
       "      <td>0</td>\n",
       "      <td>Normal</td>\n",
       "      <td>0</td>\n",
       "    </tr>\n",
       "  </tbody>\n",
       "</table>\n",
       "<p>5 rows × 44 columns</p>\n",
       "</div>"
      ],
      "text/plain": [
       "        dur proto service state  spkts  dpkts  sbytes  dbytes         rate   \n",
       "0  0.000011   udp       -   INT      2      0     496       0   90909.0902  \\\n",
       "1  0.000008   udp       -   INT      2      0    1762       0  125000.0003   \n",
       "2  0.000005   udp       -   INT      2      0    1068       0  200000.0051   \n",
       "3  0.000006   udp       -   INT      2      0     900       0  166666.6608   \n",
       "4  0.000010   udp       -   INT      2      0    2126       0  100000.0025   \n",
       "\n",
       "   sttl  ...  ct_dst_sport_ltm  ct_dst_src_ltm  is_ftp_login  ct_ftp_cmd   \n",
       "0   254  ...                 1               2             0           0  \\\n",
       "1   254  ...                 1               2             0           0   \n",
       "2   254  ...                 1               3             0           0   \n",
       "3   254  ...                 1               3             0           0   \n",
       "4   254  ...                 1               3             0           0   \n",
       "\n",
       "   ct_flw_http_mthd  ct_src_ltm  ct_srv_dst  is_sm_ips_ports  attack_cat   \n",
       "0                 0           1           2                0      Normal  \\\n",
       "1                 0           1           2                0      Normal   \n",
       "2                 0           1           3                0      Normal   \n",
       "3                 0           2           3                0      Normal   \n",
       "4                 0           2           3                0      Normal   \n",
       "\n",
       "   label  \n",
       "0      0  \n",
       "1      0  \n",
       "2      0  \n",
       "3      0  \n",
       "4      0  \n",
       "\n",
       "[5 rows x 44 columns]"
      ]
     },
     "execution_count": 11,
     "metadata": {},
     "output_type": "execute_result"
    }
   ],
   "source": [
    "df = pd.concat([training,testing]).drop('id',axis=1)\n",
    "df = df.reset_index(drop=True)\n",
    "\n",
    "df.head()"
   ]
  },
  {
   "cell_type": "code",
   "execution_count": 12,
   "metadata": {
    "execution": {
     "iopub.execute_input": "2023-06-23T05:10:50.259488Z",
     "iopub.status.busy": "2023-06-23T05:10:50.258505Z",
     "iopub.status.idle": "2023-06-23T05:10:50.266965Z",
     "shell.execute_reply": "2023-06-23T05:10:50.265889Z",
     "shell.execute_reply.started": "2023-06-23T05:10:50.259444Z"
    },
    "trusted": true
   },
   "outputs": [
    {
     "data": {
      "text/plain": [
       "Index(['dur', 'proto', 'service', 'state', 'spkts', 'dpkts', 'sbytes',\n",
       "       'dbytes', 'rate', 'sttl', 'dttl', 'sload', 'dload', 'sloss', 'dloss',\n",
       "       'sinpkt', 'dinpkt', 'sjit', 'djit', 'swin', 'stcpb', 'dtcpb', 'dwin',\n",
       "       'tcprtt', 'synack', 'ackdat', 'smean', 'dmean', 'trans_depth',\n",
       "       'response_body_len', 'ct_srv_src', 'ct_state_ttl', 'ct_dst_ltm',\n",
       "       'ct_src_dport_ltm', 'ct_dst_sport_ltm', 'ct_dst_src_ltm',\n",
       "       'is_ftp_login', 'ct_ftp_cmd', 'ct_flw_http_mthd', 'ct_src_ltm',\n",
       "       'ct_srv_dst', 'is_sm_ips_ports', 'attack_cat', 'label'],\n",
       "      dtype='object')"
      ]
     },
     "execution_count": 12,
     "metadata": {},
     "output_type": "execute_result"
    }
   ],
   "source": [
    "df.columns"
   ]
  },
  {
   "cell_type": "code",
   "execution_count": 13,
   "metadata": {
    "execution": {
     "iopub.execute_input": "2023-06-23T05:10:50.269646Z",
     "iopub.status.busy": "2023-06-23T05:10:50.268629Z",
     "iopub.status.idle": "2023-06-23T05:10:50.443784Z",
     "shell.execute_reply": "2023-06-23T05:10:50.442665Z",
     "shell.execute_reply.started": "2023-06-23T05:10:50.2696Z"
    },
    "trusted": true
   },
   "outputs": [
    {
     "name": "stdout",
     "output_type": "stream",
     "text": [
      "<class 'pandas.core.frame.DataFrame'>\n",
      "RangeIndex: 257673 entries, 0 to 257672\n",
      "Data columns (total 44 columns):\n",
      " #   Column             Non-Null Count   Dtype  \n",
      "---  ------             --------------   -----  \n",
      " 0   dur                257673 non-null  float64\n",
      " 1   proto              257673 non-null  object \n",
      " 2   service            257673 non-null  object \n",
      " 3   state              257673 non-null  object \n",
      " 4   spkts              257673 non-null  int64  \n",
      " 5   dpkts              257673 non-null  int64  \n",
      " 6   sbytes             257673 non-null  int64  \n",
      " 7   dbytes             257673 non-null  int64  \n",
      " 8   rate               257673 non-null  float64\n",
      " 9   sttl               257673 non-null  int64  \n",
      " 10  dttl               257673 non-null  int64  \n",
      " 11  sload              257673 non-null  float64\n",
      " 12  dload              257673 non-null  float64\n",
      " 13  sloss              257673 non-null  int64  \n",
      " 14  dloss              257673 non-null  int64  \n",
      " 15  sinpkt             257673 non-null  float64\n",
      " 16  dinpkt             257673 non-null  float64\n",
      " 17  sjit               257673 non-null  float64\n",
      " 18  djit               257673 non-null  float64\n",
      " 19  swin               257673 non-null  int64  \n",
      " 20  stcpb              257673 non-null  int64  \n",
      " 21  dtcpb              257673 non-null  int64  \n",
      " 22  dwin               257673 non-null  int64  \n",
      " 23  tcprtt             257673 non-null  float64\n",
      " 24  synack             257673 non-null  float64\n",
      " 25  ackdat             257673 non-null  float64\n",
      " 26  smean              257673 non-null  int64  \n",
      " 27  dmean              257673 non-null  int64  \n",
      " 28  trans_depth        257673 non-null  int64  \n",
      " 29  response_body_len  257673 non-null  int64  \n",
      " 30  ct_srv_src         257673 non-null  int64  \n",
      " 31  ct_state_ttl       257673 non-null  int64  \n",
      " 32  ct_dst_ltm         257673 non-null  int64  \n",
      " 33  ct_src_dport_ltm   257673 non-null  int64  \n",
      " 34  ct_dst_sport_ltm   257673 non-null  int64  \n",
      " 35  ct_dst_src_ltm     257673 non-null  int64  \n",
      " 36  is_ftp_login       257673 non-null  int64  \n",
      " 37  ct_ftp_cmd         257673 non-null  int64  \n",
      " 38  ct_flw_http_mthd   257673 non-null  int64  \n",
      " 39  ct_src_ltm         257673 non-null  int64  \n",
      " 40  ct_srv_dst         257673 non-null  int64  \n",
      " 41  is_sm_ips_ports    257673 non-null  int64  \n",
      " 42  attack_cat         257673 non-null  object \n",
      " 43  label              257673 non-null  int64  \n",
      "dtypes: float64(11), int64(29), object(4)\n",
      "memory usage: 86.5+ MB\n"
     ]
    }
   ],
   "source": [
    "df.info()"
   ]
  },
  {
   "cell_type": "code",
   "execution_count": 14,
   "metadata": {
    "execution": {
     "iopub.execute_input": "2023-06-23T05:10:50.44913Z",
     "iopub.status.busy": "2023-06-23T05:10:50.44876Z",
     "iopub.status.idle": "2023-06-23T05:10:50.472633Z",
     "shell.execute_reply": "2023-06-23T05:10:50.471476Z",
     "shell.execute_reply.started": "2023-06-23T05:10:50.4491Z"
    },
    "trusted": true
   },
   "outputs": [
    {
     "data": {
      "text/plain": [
       "array(['Normal', 'Reconnaissance', 'Backdoor', 'DoS', 'Exploits',\n",
       "       'Analysis', 'Fuzzers', 'Worms', 'Shellcode', 'Generic'],\n",
       "      dtype=object)"
      ]
     },
     "execution_count": 14,
     "metadata": {},
     "output_type": "execute_result"
    }
   ],
   "source": [
    "df.attack_cat.unique()"
   ]
  },
  {
   "cell_type": "markdown",
   "metadata": {},
   "source": [
    "## Categorical data"
   ]
  },
  {
   "cell_type": "code",
   "execution_count": 15,
   "metadata": {
    "execution": {
     "iopub.execute_input": "2023-06-23T05:10:50.474894Z",
     "iopub.status.busy": "2023-06-23T05:10:50.474305Z",
     "iopub.status.idle": "2023-06-23T05:10:50.568221Z",
     "shell.execute_reply": "2023-06-23T05:10:50.566913Z",
     "shell.execute_reply.started": "2023-06-23T05:10:50.474851Z"
    },
    "trusted": true
   },
   "outputs": [],
   "source": [
    "for col in ['proto', 'service', 'state']:\n",
    "    df[col] = df[col].astype('category').cat.codes\n",
    "    \n",
    "df['attack_cat'] = df['attack_cat'].astype('category')"
   ]
  },
  {
   "cell_type": "code",
   "execution_count": 16,
   "metadata": {
    "execution": {
     "iopub.execute_input": "2023-06-23T05:10:50.570224Z",
     "iopub.status.busy": "2023-06-23T05:10:50.569774Z",
     "iopub.status.idle": "2023-06-23T05:10:50.597904Z",
     "shell.execute_reply": "2023-06-23T05:10:50.59651Z",
     "shell.execute_reply.started": "2023-06-23T05:10:50.570183Z"
    },
    "trusted": true
   },
   "outputs": [
    {
     "data": {
      "text/html": [
       "<div>\n",
       "<style scoped>\n",
       "    .dataframe tbody tr th:only-of-type {\n",
       "        vertical-align: middle;\n",
       "    }\n",
       "\n",
       "    .dataframe tbody tr th {\n",
       "        vertical-align: top;\n",
       "    }\n",
       "\n",
       "    .dataframe thead th {\n",
       "        text-align: right;\n",
       "    }\n",
       "</style>\n",
       "<table border=\"1\" class=\"dataframe\">\n",
       "  <thead>\n",
       "    <tr style=\"text-align: right;\">\n",
       "      <th></th>\n",
       "      <th>dur</th>\n",
       "      <th>proto</th>\n",
       "      <th>service</th>\n",
       "      <th>state</th>\n",
       "      <th>spkts</th>\n",
       "      <th>dpkts</th>\n",
       "      <th>sbytes</th>\n",
       "      <th>dbytes</th>\n",
       "      <th>rate</th>\n",
       "      <th>sttl</th>\n",
       "      <th>...</th>\n",
       "      <th>ct_dst_sport_ltm</th>\n",
       "      <th>ct_dst_src_ltm</th>\n",
       "      <th>is_ftp_login</th>\n",
       "      <th>ct_ftp_cmd</th>\n",
       "      <th>ct_flw_http_mthd</th>\n",
       "      <th>ct_src_ltm</th>\n",
       "      <th>ct_srv_dst</th>\n",
       "      <th>is_sm_ips_ports</th>\n",
       "      <th>attack_cat</th>\n",
       "      <th>label</th>\n",
       "    </tr>\n",
       "  </thead>\n",
       "  <tbody>\n",
       "    <tr>\n",
       "      <th>0</th>\n",
       "      <td>0.000011</td>\n",
       "      <td>119</td>\n",
       "      <td>0</td>\n",
       "      <td>5</td>\n",
       "      <td>2</td>\n",
       "      <td>0</td>\n",
       "      <td>496</td>\n",
       "      <td>0</td>\n",
       "      <td>90909.0902</td>\n",
       "      <td>254</td>\n",
       "      <td>...</td>\n",
       "      <td>1</td>\n",
       "      <td>2</td>\n",
       "      <td>0</td>\n",
       "      <td>0</td>\n",
       "      <td>0</td>\n",
       "      <td>1</td>\n",
       "      <td>2</td>\n",
       "      <td>0</td>\n",
       "      <td>Normal</td>\n",
       "      <td>0</td>\n",
       "    </tr>\n",
       "    <tr>\n",
       "      <th>1</th>\n",
       "      <td>0.000008</td>\n",
       "      <td>119</td>\n",
       "      <td>0</td>\n",
       "      <td>5</td>\n",
       "      <td>2</td>\n",
       "      <td>0</td>\n",
       "      <td>1762</td>\n",
       "      <td>0</td>\n",
       "      <td>125000.0003</td>\n",
       "      <td>254</td>\n",
       "      <td>...</td>\n",
       "      <td>1</td>\n",
       "      <td>2</td>\n",
       "      <td>0</td>\n",
       "      <td>0</td>\n",
       "      <td>0</td>\n",
       "      <td>1</td>\n",
       "      <td>2</td>\n",
       "      <td>0</td>\n",
       "      <td>Normal</td>\n",
       "      <td>0</td>\n",
       "    </tr>\n",
       "    <tr>\n",
       "      <th>2</th>\n",
       "      <td>0.000005</td>\n",
       "      <td>119</td>\n",
       "      <td>0</td>\n",
       "      <td>5</td>\n",
       "      <td>2</td>\n",
       "      <td>0</td>\n",
       "      <td>1068</td>\n",
       "      <td>0</td>\n",
       "      <td>200000.0051</td>\n",
       "      <td>254</td>\n",
       "      <td>...</td>\n",
       "      <td>1</td>\n",
       "      <td>3</td>\n",
       "      <td>0</td>\n",
       "      <td>0</td>\n",
       "      <td>0</td>\n",
       "      <td>1</td>\n",
       "      <td>3</td>\n",
       "      <td>0</td>\n",
       "      <td>Normal</td>\n",
       "      <td>0</td>\n",
       "    </tr>\n",
       "    <tr>\n",
       "      <th>3</th>\n",
       "      <td>0.000006</td>\n",
       "      <td>119</td>\n",
       "      <td>0</td>\n",
       "      <td>5</td>\n",
       "      <td>2</td>\n",
       "      <td>0</td>\n",
       "      <td>900</td>\n",
       "      <td>0</td>\n",
       "      <td>166666.6608</td>\n",
       "      <td>254</td>\n",
       "      <td>...</td>\n",
       "      <td>1</td>\n",
       "      <td>3</td>\n",
       "      <td>0</td>\n",
       "      <td>0</td>\n",
       "      <td>0</td>\n",
       "      <td>2</td>\n",
       "      <td>3</td>\n",
       "      <td>0</td>\n",
       "      <td>Normal</td>\n",
       "      <td>0</td>\n",
       "    </tr>\n",
       "    <tr>\n",
       "      <th>4</th>\n",
       "      <td>0.000010</td>\n",
       "      <td>119</td>\n",
       "      <td>0</td>\n",
       "      <td>5</td>\n",
       "      <td>2</td>\n",
       "      <td>0</td>\n",
       "      <td>2126</td>\n",
       "      <td>0</td>\n",
       "      <td>100000.0025</td>\n",
       "      <td>254</td>\n",
       "      <td>...</td>\n",
       "      <td>1</td>\n",
       "      <td>3</td>\n",
       "      <td>0</td>\n",
       "      <td>0</td>\n",
       "      <td>0</td>\n",
       "      <td>2</td>\n",
       "      <td>3</td>\n",
       "      <td>0</td>\n",
       "      <td>Normal</td>\n",
       "      <td>0</td>\n",
       "    </tr>\n",
       "  </tbody>\n",
       "</table>\n",
       "<p>5 rows × 44 columns</p>\n",
       "</div>"
      ],
      "text/plain": [
       "        dur  proto  service  state  spkts  dpkts  sbytes  dbytes         rate   \n",
       "0  0.000011    119        0      5      2      0     496       0   90909.0902  \\\n",
       "1  0.000008    119        0      5      2      0    1762       0  125000.0003   \n",
       "2  0.000005    119        0      5      2      0    1068       0  200000.0051   \n",
       "3  0.000006    119        0      5      2      0     900       0  166666.6608   \n",
       "4  0.000010    119        0      5      2      0    2126       0  100000.0025   \n",
       "\n",
       "   sttl  ...  ct_dst_sport_ltm  ct_dst_src_ltm  is_ftp_login  ct_ftp_cmd   \n",
       "0   254  ...                 1               2             0           0  \\\n",
       "1   254  ...                 1               2             0           0   \n",
       "2   254  ...                 1               3             0           0   \n",
       "3   254  ...                 1               3             0           0   \n",
       "4   254  ...                 1               3             0           0   \n",
       "\n",
       "   ct_flw_http_mthd  ct_src_ltm  ct_srv_dst  is_sm_ips_ports  attack_cat   \n",
       "0                 0           1           2                0      Normal  \\\n",
       "1                 0           1           2                0      Normal   \n",
       "2                 0           1           3                0      Normal   \n",
       "3                 0           2           3                0      Normal   \n",
       "4                 0           2           3                0      Normal   \n",
       "\n",
       "   label  \n",
       "0      0  \n",
       "1      0  \n",
       "2      0  \n",
       "3      0  \n",
       "4      0  \n",
       "\n",
       "[5 rows x 44 columns]"
      ]
     },
     "execution_count": 16,
     "metadata": {},
     "output_type": "execute_result"
    }
   ],
   "source": [
    "df.head()"
   ]
  },
  {
   "cell_type": "markdown",
   "metadata": {},
   "source": [
    "## Visualizing attacks categories"
   ]
  },
  {
   "cell_type": "code",
   "execution_count": 17,
   "metadata": {
    "execution": {
     "iopub.execute_input": "2023-06-23T05:10:50.599498Z",
     "iopub.status.busy": "2023-06-23T05:10:50.599167Z",
     "iopub.status.idle": "2023-06-23T05:10:50.967545Z",
     "shell.execute_reply": "2023-06-23T05:10:50.966326Z",
     "shell.execute_reply.started": "2023-06-23T05:10:50.59947Z"
    },
    "trusted": true
   },
   "outputs": [
    {
     "name": "stdout",
     "output_type": "stream",
     "text": [
      "attack_cat\n",
      "Generic           58871\n",
      "Exploits          44525\n",
      "Fuzzers           24246\n",
      "DoS               16353\n",
      "Reconnaissance    13987\n",
      "Analysis           2677\n",
      "Backdoor           2329\n",
      "Shellcode          1511\n",
      "Worms               174\n",
      "Normal                0\n",
      "Name: count, dtype: int64\n"
     ]
    },
    {
     "data": {
      "image/png": "[encoded data removed]",
      "text/plain": [
       "<Figure size 1080x576 with 1 Axes>"
      ]
     },
     "metadata": {},
     "output_type": "display_data"
    }
   ],
   "source": [
    "validAttacks = df[df['label']==1]['attack_cat'].value_counts()\n",
    "print(validAttacks)\n",
    "\n",
    "plt.figure(figsize = (15,8))\n",
    "plt.pie(validAttacks,labels = validAttacks.index, autopct = '%1.1f%%',explode = [0,0,0,0,0,0.2,0.2,0.2,0.2,1.2])\n",
    "plt.show()"
   ]
  },
  {
   "cell_type": "markdown",
   "metadata": {},
   "source": [
    "* Generic and Exploits attacks are the most."
   ]
  },
  {
   "cell_type": "markdown",
   "metadata": {},
   "source": [
    "## Splitting data"
   ]
  },
  {
   "cell_type": "code",
   "execution_count": 18,
   "metadata": {
    "execution": {
     "iopub.execute_input": "2023-06-23T05:10:50.969648Z",
     "iopub.status.busy": "2023-06-23T05:10:50.969221Z",
     "iopub.status.idle": "2023-06-23T05:10:51.090848Z",
     "shell.execute_reply": "2023-06-23T05:10:51.089736Z",
     "shell.execute_reply.started": "2023-06-23T05:10:50.969608Z"
    },
    "trusted": true
   },
   "outputs": [
    {
     "name": "stdout",
     "output_type": "stream",
     "text": [
      "X_train shape:  (180371, 42)\n",
      "y_train shape:  (180371,)\n",
      "X_test shape:  (77302, 42)\n",
      "y_test shape:  (77302,)\n"
     ]
    }
   ],
   "source": [
    "from sklearn.model_selection import train_test_split\n",
    "\n",
    "X = df.drop(columns = ['attack_cat', 'label'])\n",
    "y = df['label'].values\n",
    "\n",
    "X_train, X_test, y_train, y_test = train_test_split(X, y, test_size=0.3, random_state=11)\n",
    "\n",
    "feature_names = list(X.columns)\n",
    "\n",
    "print(\"X_train shape: \", X_train.shape)\n",
    "print(\"y_train shape: \", y_train.shape)\n",
    "print(\"X_test shape: \", X_test.shape)\n",
    "print(\"y_test shape: \", y_test.shape)"
   ]
  },
  {
   "cell_type": "markdown",
   "metadata": {},
   "source": [
    "## Decision Tree Model :\n",
    "* Using a decision tree model to create a set of criteria for detecting cyber attacks. Conducting a grid search to optimize the model toward maximizing recall. Recall rate should be high to create the first layer of protection."
   ]
  },
  {
   "cell_type": "code",
   "execution_count": 19,
   "metadata": {
    "execution": {
     "iopub.execute_input": "2023-06-23T05:10:51.093047Z",
     "iopub.status.busy": "2023-06-23T05:10:51.092379Z",
     "iopub.status.idle": "2023-06-23T05:12:23.338911Z",
     "shell.execute_reply": "2023-06-23T05:12:23.337562Z",
     "shell.execute_reply.started": "2023-06-23T05:10:51.093007Z"
    },
    "trusted": true
   },
   "outputs": [
    {
     "name": "stdout",
     "output_type": "stream",
     "text": [
      "Best parameters: {'criterion': 'gini', 'max_depth': 2, 'min_samples_leaf': 1, 'min_samples_split': 2}\n",
      "Best recall score: 1.0\n"
     ]
    }
   ],
   "source": [
    "from sklearn.tree import DecisionTreeClassifier\n",
    "from sklearn.model_selection import GridSearchCV\n",
    "\n",
    "param_grid = {\n",
    "    'criterion': ['gini', 'entropy'],\n",
    "    'max_depth': [2, 4],\n",
    "    'min_samples_split': [2, 4],\n",
    "    'min_samples_leaf': [1, 2]\n",
    "}\n",
    "\n",
    "dt = DecisionTreeClassifier()\n",
    "\n",
    "grid_search = GridSearchCV(dt, param_grid, cv=5, scoring='recall')\n",
    "grid_search.fit(X_train, y_train)\n",
    "\n",
    "print(\"Best parameters:\", grid_search.best_params_)\n",
    "print(\"Best recall score:\", grid_search.best_score_)"
   ]
  },
  {
   "cell_type": "code",
   "execution_count": 20,
   "metadata": {
    "execution": {
     "iopub.execute_input": "2023-06-23T05:12:23.341323Z",
     "iopub.status.busy": "2023-06-23T05:12:23.340822Z",
     "iopub.status.idle": "2023-06-23T05:12:24.395686Z",
     "shell.execute_reply": "2023-06-23T05:12:24.394525Z",
     "shell.execute_reply.started": "2023-06-23T05:12:23.341278Z"
    },
    "trusted": true
   },
   "outputs": [
    {
     "name": "stdout",
     "output_type": "stream",
     "text": [
      "Recall:  1.0\n"
     ]
    }
   ],
   "source": [
    "from sklearn.metrics import recall_score\n",
    "from sklearn.metrics import accuracy_score\n",
    "\n",
    "clf=grid_search.best_estimator_\n",
    "clf.fit(X_train,y_train)\n",
    "y_pred = clf.predict(X_test)\n",
    "\n",
    "recall = recall_score(y_test, y_pred)\n",
    "print(\"Recall: \", recall)"
   ]
  },
  {
   "cell_type": "markdown",
   "metadata": {},
   "source": [
    "## Visualizing the rules"
   ]
  },
  {
   "cell_type": "code",
   "execution_count": 21,
   "metadata": {
    "execution": {
     "iopub.execute_input": "2023-06-23T05:12:24.397768Z",
     "iopub.status.busy": "2023-06-23T05:12:24.397329Z",
     "iopub.status.idle": "2023-06-23T05:12:47.507536Z",
     "shell.execute_reply": "2023-06-23T05:12:47.506491Z",
     "shell.execute_reply.started": "2023-06-23T05:12:24.397727Z"
    },
    "trusted": true
   },
   "outputs": [
    {
     "name": "stdout",
     "output_type": "stream",
     "text": [
      ":::::::> The RULES FOR HIGH RECALL RATE <::::::: \n",
      " |--- sttl <= 61.00\n",
      "|   |--- sinpkt <= 0.00\n",
      "|   |   |--- class: 1\n",
      "|   |--- sinpkt >  0.00\n",
      "|   |   |--- class: 0\n",
      "|--- sttl >  61.00\n",
      "|   |--- synack <= 0.04\n",
      "|   |   |--- class: 1\n",
      "|   |--- synack >  0.04\n",
      "|   |   |--- class: 1\n",
      "\n"
     ]
    },
    {
     "ename": "ExecutableNotFound",
     "evalue": "failed to execute 'dot', make sure the Graphviz executables are on your systems' PATH",
     "output_type": "error",
     "traceback": [
      "\u001b[1;31m---------------------------------------------------------------------------\u001b[0m",
      "\u001b[1;31mFileNotFoundError\u001b[0m                         Traceback (most recent call last)",
      "File \u001b[1;32mc:\\Users\\ujjwa\\anaconda3\\lib\\site-packages\\graphviz\\backend\\execute.py:78\u001b[0m, in \u001b[0;36mrun_check\u001b[1;34m(cmd, input_lines, encoding, quiet, **kwargs)\u001b[0m\n\u001b[0;32m     77\u001b[0m     \u001b[38;5;28;01melse\u001b[39;00m:\n\u001b[1;32m---> 78\u001b[0m         proc \u001b[38;5;241m=\u001b[39m subprocess\u001b[38;5;241m.\u001b[39mrun(cmd, \u001b[38;5;241m*\u001b[39m\u001b[38;5;241m*\u001b[39mkwargs)\n\u001b[0;32m     79\u001b[0m \u001b[38;5;28;01mexcept\u001b[39;00m \u001b[38;5;167;01mOSError\u001b[39;00m \u001b[38;5;28;01mas\u001b[39;00m e:\n",
      "File \u001b[1;32mc:\\Users\\ujjwa\\anaconda3\\lib\\subprocess.py:505\u001b[0m, in \u001b[0;36mrun\u001b[1;34m(input, capture_output, timeout, check, *popenargs, **kwargs)\u001b[0m\n\u001b[0;32m    503\u001b[0m     kwargs[\u001b[38;5;124m'\u001b[39m\u001b[38;5;124mstderr\u001b[39m\u001b[38;5;124m'\u001b[39m] \u001b[38;5;241m=\u001b[39m PIPE\n\u001b[1;32m--> 505\u001b[0m \u001b[38;5;28;01mwith\u001b[39;00m Popen(\u001b[38;5;241m*\u001b[39mpopenargs, \u001b[38;5;241m*\u001b[39m\u001b[38;5;241m*\u001b[39mkwargs) \u001b[38;5;28;01mas\u001b[39;00m process:\n\u001b[0;32m    506\u001b[0m     \u001b[38;5;28;01mtry\u001b[39;00m:\n",
      "File \u001b[1;32mc:\\Users\\ujjwa\\anaconda3\\lib\\subprocess.py:951\u001b[0m, in \u001b[0;36mPopen.__init__\u001b[1;34m(self, args, bufsize, executable, stdin, stdout, stderr, preexec_fn, close_fds, shell, cwd, env, universal_newlines, startupinfo, creationflags, restore_signals, start_new_session, pass_fds, user, group, extra_groups, encoding, errors, text, umask)\u001b[0m\n\u001b[0;32m    948\u001b[0m             \u001b[38;5;28mself\u001b[39m\u001b[38;5;241m.\u001b[39mstderr \u001b[38;5;241m=\u001b[39m io\u001b[38;5;241m.\u001b[39mTextIOWrapper(\u001b[38;5;28mself\u001b[39m\u001b[38;5;241m.\u001b[39mstderr,\n\u001b[0;32m    949\u001b[0m                     encoding\u001b[38;5;241m=\u001b[39mencoding, errors\u001b[38;5;241m=\u001b[39merrors)\n\u001b[1;32m--> 951\u001b[0m     \u001b[38;5;28;43mself\u001b[39;49m\u001b[38;5;241;43m.\u001b[39;49m\u001b[43m_execute_child\u001b[49m\u001b[43m(\u001b[49m\u001b[43margs\u001b[49m\u001b[43m,\u001b[49m\u001b[43m \u001b[49m\u001b[43mexecutable\u001b[49m\u001b[43m,\u001b[49m\u001b[43m \u001b[49m\u001b[43mpreexec_fn\u001b[49m\u001b[43m,\u001b[49m\u001b[43m \u001b[49m\u001b[43mclose_fds\u001b[49m\u001b[43m,\u001b[49m\n\u001b[0;32m    952\u001b[0m \u001b[43m                        \u001b[49m\u001b[43mpass_fds\u001b[49m\u001b[43m,\u001b[49m\u001b[43m \u001b[49m\u001b[43mcwd\u001b[49m\u001b[43m,\u001b[49m\u001b[43m \u001b[49m\u001b[43menv\u001b[49m\u001b[43m,\u001b[49m\n\u001b[0;32m    953\u001b[0m \u001b[43m                        \u001b[49m\u001b[43mstartupinfo\u001b[49m\u001b[43m,\u001b[49m\u001b[43m \u001b[49m\u001b[43mcreationflags\u001b[49m\u001b[43m,\u001b[49m\u001b[43m \u001b[49m\u001b[43mshell\u001b[49m\u001b[43m,\u001b[49m\n\u001b[0;32m    954\u001b[0m \u001b[43m                        \u001b[49m\u001b[43mp2cread\u001b[49m\u001b[43m,\u001b[49m\u001b[43m \u001b[49m\u001b[43mp2cwrite\u001b[49m\u001b[43m,\u001b[49m\n\u001b[0;32m    955\u001b[0m \u001b[43m                        \u001b[49m\u001b[43mc2pread\u001b[49m\u001b[43m,\u001b[49m\u001b[43m \u001b[49m\u001b[43mc2pwrite\u001b[49m\u001b[43m,\u001b[49m\n\u001b[0;32m    956\u001b[0m \u001b[43m                        \u001b[49m\u001b[43merrread\u001b[49m\u001b[43m,\u001b[49m\u001b[43m \u001b[49m\u001b[43merrwrite\u001b[49m\u001b[43m,\u001b[49m\n\u001b[0;32m    957\u001b[0m \u001b[43m                        \u001b[49m\u001b[43mrestore_signals\u001b[49m\u001b[43m,\u001b[49m\n\u001b[0;32m    958\u001b[0m \u001b[43m                        \u001b[49m\u001b[43mgid\u001b[49m\u001b[43m,\u001b[49m\u001b[43m \u001b[49m\u001b[43mgids\u001b[49m\u001b[43m,\u001b[49m\u001b[43m \u001b[49m\u001b[43muid\u001b[49m\u001b[43m,\u001b[49m\u001b[43m \u001b[49m\u001b[43mumask\u001b[49m\u001b[43m,\u001b[49m\n\u001b[0;32m    959\u001b[0m \u001b[43m                        \u001b[49m\u001b[43mstart_new_session\u001b[49m\u001b[43m)\u001b[49m\n\u001b[0;32m    960\u001b[0m \u001b[38;5;28;01mexcept\u001b[39;00m:\n\u001b[0;32m    961\u001b[0m     \u001b[38;5;66;03m# Cleanup if the child failed starting.\u001b[39;00m\n",
      "File \u001b[1;32mc:\\Users\\ujjwa\\anaconda3\\lib\\subprocess.py:1420\u001b[0m, in \u001b[0;36mPopen._execute_child\u001b[1;34m(self, args, executable, preexec_fn, close_fds, pass_fds, cwd, env, startupinfo, creationflags, shell, p2cread, p2cwrite, c2pread, c2pwrite, errread, errwrite, unused_restore_signals, unused_gid, unused_gids, unused_uid, unused_umask, unused_start_new_session)\u001b[0m\n\u001b[0;32m   1419\u001b[0m \u001b[38;5;28;01mtry\u001b[39;00m:\n\u001b[1;32m-> 1420\u001b[0m     hp, ht, pid, tid \u001b[38;5;241m=\u001b[39m \u001b[43m_winapi\u001b[49m\u001b[38;5;241;43m.\u001b[39;49m\u001b[43mCreateProcess\u001b[49m\u001b[43m(\u001b[49m\u001b[43mexecutable\u001b[49m\u001b[43m,\u001b[49m\u001b[43m \u001b[49m\u001b[43margs\u001b[49m\u001b[43m,\u001b[49m\n\u001b[0;32m   1421\u001b[0m \u001b[43m                             \u001b[49m\u001b[38;5;66;43;03m# no special security\u001b[39;49;00m\n\u001b[0;32m   1422\u001b[0m \u001b[43m                             \u001b[49m\u001b[38;5;28;43;01mNone\u001b[39;49;00m\u001b[43m,\u001b[49m\u001b[43m \u001b[49m\u001b[38;5;28;43;01mNone\u001b[39;49;00m\u001b[43m,\u001b[49m\n\u001b[0;32m   1423\u001b[0m \u001b[43m                             \u001b[49m\u001b[38;5;28;43mint\u001b[39;49m\u001b[43m(\u001b[49m\u001b[38;5;129;43;01mnot\u001b[39;49;00m\u001b[43m \u001b[49m\u001b[43mclose_fds\u001b[49m\u001b[43m)\u001b[49m\u001b[43m,\u001b[49m\n\u001b[0;32m   1424\u001b[0m \u001b[43m                             \u001b[49m\u001b[43mcreationflags\u001b[49m\u001b[43m,\u001b[49m\n\u001b[0;32m   1425\u001b[0m \u001b[43m                             \u001b[49m\u001b[43menv\u001b[49m\u001b[43m,\u001b[49m\n\u001b[0;32m   1426\u001b[0m \u001b[43m                             \u001b[49m\u001b[43mcwd\u001b[49m\u001b[43m,\u001b[49m\n\u001b[0;32m   1427\u001b[0m \u001b[43m                             \u001b[49m\u001b[43mstartupinfo\u001b[49m\u001b[43m)\u001b[49m\n\u001b[0;32m   1428\u001b[0m \u001b[38;5;28;01mfinally\u001b[39;00m:\n\u001b[0;32m   1429\u001b[0m     \u001b[38;5;66;03m# Child is launched. Close the parent's copy of those pipe\u001b[39;00m\n\u001b[0;32m   1430\u001b[0m     \u001b[38;5;66;03m# handles that only the child should have open.  You need\u001b[39;00m\n\u001b[1;32m   (...)\u001b[0m\n\u001b[0;32m   1433\u001b[0m     \u001b[38;5;66;03m# pipe will not close when the child process exits and the\u001b[39;00m\n\u001b[0;32m   1434\u001b[0m     \u001b[38;5;66;03m# ReadFile will hang.\u001b[39;00m\n",
      "\u001b[1;31mFileNotFoundError\u001b[0m: [WinError 2] The system cannot find the file specified",
      "\nThe above exception was the direct cause of the following exception:\n",
      "\u001b[1;31mExecutableNotFound\u001b[0m                        Traceback (most recent call last)",
      "File \u001b[1;32mc:\\Users\\ujjwa\\anaconda3\\lib\\site-packages\\IPython\\core\\formatters.py:343\u001b[0m, in \u001b[0;36mBaseFormatter.__call__\u001b[1;34m(self, obj)\u001b[0m\n\u001b[0;32m    341\u001b[0m     method \u001b[38;5;241m=\u001b[39m get_real_method(obj, \u001b[38;5;28mself\u001b[39m\u001b[38;5;241m.\u001b[39mprint_method)\n\u001b[0;32m    342\u001b[0m     \u001b[38;5;28;01mif\u001b[39;00m method \u001b[38;5;129;01mis\u001b[39;00m \u001b[38;5;129;01mnot\u001b[39;00m \u001b[38;5;28;01mNone\u001b[39;00m:\n\u001b[1;32m--> 343\u001b[0m         \u001b[38;5;28;01mreturn\u001b[39;00m \u001b[43mmethod\u001b[49m\u001b[43m(\u001b[49m\u001b[43m)\u001b[49m\n\u001b[0;32m    344\u001b[0m     \u001b[38;5;28;01mreturn\u001b[39;00m \u001b[38;5;28;01mNone\u001b[39;00m\n\u001b[0;32m    345\u001b[0m \u001b[38;5;28;01melse\u001b[39;00m:\n",
      "File \u001b[1;32mc:\\Users\\ujjwa\\anaconda3\\lib\\site-packages\\dtreeviz\\utils.py:242\u001b[0m, in \u001b[0;36mDTreeVizRender._repr_svg_\u001b[1;34m(self)\u001b[0m\n\u001b[0;32m    241\u001b[0m \u001b[38;5;28;01mdef\u001b[39;00m \u001b[38;5;21m_repr_svg_\u001b[39m(\u001b[38;5;28mself\u001b[39m):\n\u001b[1;32m--> 242\u001b[0m     \u001b[38;5;28;01mreturn\u001b[39;00m \u001b[38;5;28;43mself\u001b[39;49m\u001b[38;5;241;43m.\u001b[39;49m\u001b[43msvg\u001b[49m\u001b[43m(\u001b[49m\u001b[43m)\u001b[49m\n",
      "File \u001b[1;32mc:\\Users\\ujjwa\\anaconda3\\lib\\site-packages\\dtreeviz\\utils.py:246\u001b[0m, in \u001b[0;36mDTreeVizRender.svg\u001b[1;34m(self)\u001b[0m\n\u001b[0;32m    244\u001b[0m \u001b[38;5;28;01mdef\u001b[39;00m \u001b[38;5;21msvg\u001b[39m(\u001b[38;5;28mself\u001b[39m):\n\u001b[0;32m    245\u001b[0m     \u001b[38;5;124;03m\"\"\"Render tree as svg and return svg text.\"\"\"\u001b[39;00m\n\u001b[1;32m--> 246\u001b[0m     svgfilename \u001b[38;5;241m=\u001b[39m \u001b[38;5;28;43mself\u001b[39;49m\u001b[38;5;241;43m.\u001b[39;49m\u001b[43msave_svg\u001b[49m\u001b[43m(\u001b[49m\u001b[43m)\u001b[49m\n\u001b[0;32m    247\u001b[0m     \u001b[38;5;28;01mwith\u001b[39;00m \u001b[38;5;28mopen\u001b[39m(svgfilename, encoding\u001b[38;5;241m=\u001b[39m\u001b[38;5;124m'\u001b[39m\u001b[38;5;124mUTF-8\u001b[39m\u001b[38;5;124m'\u001b[39m) \u001b[38;5;28;01mas\u001b[39;00m f:\n\u001b[0;32m    248\u001b[0m         svg \u001b[38;5;241m=\u001b[39m f\u001b[38;5;241m.\u001b[39mread()\n",
      "File \u001b[1;32mc:\\Users\\ujjwa\\anaconda3\\lib\\site-packages\\dtreeviz\\utils.py:266\u001b[0m, in \u001b[0;36mDTreeVizRender.save_svg\u001b[1;34m(self)\u001b[0m\n\u001b[0;32m    264\u001b[0m tmp \u001b[38;5;241m=\u001b[39m tempfile\u001b[38;5;241m.\u001b[39mgettempdir()\n\u001b[0;32m    265\u001b[0m svgfilename \u001b[38;5;241m=\u001b[39m os\u001b[38;5;241m.\u001b[39mpath\u001b[38;5;241m.\u001b[39mjoin(tmp, \u001b[38;5;124mf\u001b[39m\u001b[38;5;124m\"\u001b[39m\u001b[38;5;124mDTreeViz_\u001b[39m\u001b[38;5;132;01m{\u001b[39;00mos\u001b[38;5;241m.\u001b[39mgetpid()\u001b[38;5;132;01m}\u001b[39;00m\u001b[38;5;124m.svg\u001b[39m\u001b[38;5;124m\"\u001b[39m)\n\u001b[1;32m--> 266\u001b[0m \u001b[38;5;28;43mself\u001b[39;49m\u001b[38;5;241;43m.\u001b[39;49m\u001b[43msave\u001b[49m\u001b[43m(\u001b[49m\u001b[43msvgfilename\u001b[49m\u001b[43m)\u001b[49m\n\u001b[0;32m    267\u001b[0m \u001b[38;5;28;01mreturn\u001b[39;00m svgfilename\n",
      "File \u001b[1;32mc:\\Users\\ujjwa\\anaconda3\\lib\\site-packages\\dtreeviz\\utils.py:294\u001b[0m, in \u001b[0;36mDTreeVizRender.save\u001b[1;34m(self, filename)\u001b[0m\n\u001b[0;32m    292\u001b[0m     graphviz\u001b[38;5;241m.\u001b[39mbackend\u001b[38;5;241m.\u001b[39mrun(cmd, capture_output\u001b[38;5;241m=\u001b[39m\u001b[38;5;28;01mTrue\u001b[39;00m, check\u001b[38;5;241m=\u001b[39m\u001b[38;5;28;01mTrue\u001b[39;00m, quiet\u001b[38;5;241m=\u001b[39m\u001b[38;5;28;01mFalse\u001b[39;00m)\n\u001b[0;32m    293\u001b[0m \u001b[38;5;28;01melse\u001b[39;00m:\n\u001b[1;32m--> 294\u001b[0m     \u001b[43mgraphviz\u001b[49m\u001b[38;5;241;43m.\u001b[39;49m\u001b[43mbackend\u001b[49m\u001b[38;5;241;43m.\u001b[39;49m\u001b[43mexecute\u001b[49m\u001b[38;5;241;43m.\u001b[39;49m\u001b[43mrun_check\u001b[49m\u001b[43m(\u001b[49m\u001b[43mcmd\u001b[49m\u001b[43m,\u001b[49m\u001b[43m \u001b[49m\u001b[43mcapture_output\u001b[49m\u001b[38;5;241;43m=\u001b[39;49m\u001b[38;5;28;43;01mTrue\u001b[39;49;00m\u001b[43m,\u001b[49m\u001b[43m \u001b[49m\u001b[43mcheck\u001b[49m\u001b[38;5;241;43m=\u001b[39;49m\u001b[38;5;28;43;01mTrue\u001b[39;49;00m\u001b[43m,\u001b[49m\u001b[43m \u001b[49m\u001b[43mquiet\u001b[49m\u001b[38;5;241;43m=\u001b[39;49m\u001b[38;5;28;43;01mFalse\u001b[39;49;00m\u001b[43m)\u001b[49m\n\u001b[0;32m    296\u001b[0m \u001b[38;5;28;01mif\u001b[39;00m filename\u001b[38;5;241m.\u001b[39mendswith(\u001b[38;5;124m\"\u001b[39m\u001b[38;5;124m.svg\u001b[39m\u001b[38;5;124m\"\u001b[39m):\n\u001b[0;32m    297\u001b[0m     \u001b[38;5;66;03m# now merge in referenced SVG images to make all-in-one file\u001b[39;00m\n\u001b[0;32m    298\u001b[0m     \u001b[38;5;28;01mwith\u001b[39;00m \u001b[38;5;28mopen\u001b[39m(filename, encoding\u001b[38;5;241m=\u001b[39m\u001b[38;5;124m'\u001b[39m\u001b[38;5;124mUTF-8\u001b[39m\u001b[38;5;124m'\u001b[39m) \u001b[38;5;28;01mas\u001b[39;00m f:\n",
      "File \u001b[1;32mc:\\Users\\ujjwa\\anaconda3\\lib\\site-packages\\graphviz\\backend\\execute.py:81\u001b[0m, in \u001b[0;36mrun_check\u001b[1;34m(cmd, input_lines, encoding, quiet, **kwargs)\u001b[0m\n\u001b[0;32m     79\u001b[0m \u001b[38;5;28;01mexcept\u001b[39;00m \u001b[38;5;167;01mOSError\u001b[39;00m \u001b[38;5;28;01mas\u001b[39;00m e:\n\u001b[0;32m     80\u001b[0m     \u001b[38;5;28;01mif\u001b[39;00m e\u001b[38;5;241m.\u001b[39merrno \u001b[38;5;241m==\u001b[39m errno\u001b[38;5;241m.\u001b[39mENOENT:\n\u001b[1;32m---> 81\u001b[0m         \u001b[38;5;28;01mraise\u001b[39;00m ExecutableNotFound(cmd) \u001b[38;5;28;01mfrom\u001b[39;00m \u001b[38;5;21;01me\u001b[39;00m\n\u001b[0;32m     82\u001b[0m     \u001b[38;5;28;01mraise\u001b[39;00m\n\u001b[0;32m     84\u001b[0m \u001b[38;5;28;01mif\u001b[39;00m \u001b[38;5;129;01mnot\u001b[39;00m quiet \u001b[38;5;129;01mand\u001b[39;00m proc\u001b[38;5;241m.\u001b[39mstderr:\n",
      "\u001b[1;31mExecutableNotFound\u001b[0m: failed to execute 'dot', make sure the Graphviz executables are on your systems' PATH"
     ]
    },
    {
     "data": {
      "text/plain": [
       "<dtreeviz.utils.DTreeVizRender at 0x14a923e6eb0>"
      ]
     },
     "execution_count": 21,
     "metadata": {},
     "output_type": "execute_result"
    }
   ],
   "source": [
    "from sklearn.tree import export_text\n",
    "import dtreeviz\n",
    "\n",
    "print(\":::::::> The RULES FOR HIGH RECALL RATE <::::::: \\n\" ,export_text(clf,feature_names=feature_names))\n",
    "\n",
    "viz_model = dtreeviz.model(clf,\n",
    "                           X_train=X_train, y_train=y_train, \n",
    "                           feature_names=feature_names)  \n",
    "viz_model.view()"
   ]
  },
  {
   "cell_type": "code",
   "execution_count": 23,
   "metadata": {},
   "outputs": [
    {
     "data": {
      "text/plain": [
       "['../models/decision_tree_model.pkl']"
      ]
     },
     "execution_count": 23,
     "metadata": {},
     "output_type": "execute_result"
    }
   ],
   "source": [
    "import joblib\n",
    "\n",
    "joblib.dump(clf, '../models/decision_tree_model.pkl')"
   ]
  },
  {
   "cell_type": "markdown",
   "metadata": {},
   "source": [
    "* From the decision tree, we visualized the rule of tree as sttl<=61 and sttl>61"
   ]
  },
  {
   "cell_type": "markdown",
   "metadata": {},
   "source": [
    "## Filtering data for potential attacks"
   ]
  },
  {
   "cell_type": "code",
   "execution_count": 24,
   "metadata": {
    "execution": {
     "iopub.execute_input": "2023-06-23T05:12:47.509247Z",
     "iopub.status.busy": "2023-06-23T05:12:47.508898Z",
     "iopub.status.idle": "2023-06-23T05:12:47.543847Z",
     "shell.execute_reply": "2023-06-23T05:12:47.542597Z",
     "shell.execute_reply.started": "2023-06-23T05:12:47.509218Z"
    },
    "trusted": true
   },
   "outputs": [
    {
     "name": "stdout",
     "output_type": "stream",
     "text": [
      "(77302, 42)\n",
      "(59425, 42)\n",
      "filtered data 23.0 %\n"
     ]
    }
   ],
   "source": [
    "X_test = X_test.reset_index(drop=True)\n",
    "\n",
    "rules= \"(sttl <= 61.00 & sinpkt<= 0.00) | (sttl >  61.00 )\"\n",
    "\n",
    "ind = X_test.query(rules).index\n",
    "\n",
    "X_test_2 = X_test.loc[ind,:]\n",
    "y_test_2 = y_test[ind]\n",
    "\n",
    "print(X_test.shape)\n",
    "print(X_test_2.shape)\n",
    "print(\"filtered data\" , (1- np.round(X_test_2.shape[0] / X_test.shape[0],2))*100, \"%\")"
   ]
  },
  {
   "cell_type": "markdown",
   "metadata": {},
   "source": [
    "* The rule based system filtered 23% of network traffic for further analysis, demonstrating its efficacy in detecting non-threatening network activity. Now, we will detect cyber attacks by applying the trained model to the filtered test data."
   ]
  },
  {
   "cell_type": "code",
   "execution_count": 25,
   "metadata": {
    "execution": {
     "iopub.execute_input": "2023-06-23T05:12:47.545456Z",
     "iopub.status.busy": "2023-06-23T05:12:47.545118Z",
     "iopub.status.idle": "2023-06-23T05:12:47.550593Z",
     "shell.execute_reply": "2023-06-23T05:12:47.549421Z",
     "shell.execute_reply.started": "2023-06-23T05:12:47.545427Z"
    },
    "trusted": true
   },
   "outputs": [],
   "source": [
    "from sklearn.metrics import accuracy_score, precision_score"
   ]
  },
  {
   "cell_type": "code",
   "execution_count": 26,
   "metadata": {
    "execution": {
     "iopub.execute_input": "2023-06-23T05:12:47.552552Z",
     "iopub.status.busy": "2023-06-23T05:12:47.552115Z",
     "iopub.status.idle": "2023-06-23T05:12:47.561912Z",
     "shell.execute_reply": "2023-06-23T05:12:47.560751Z",
     "shell.execute_reply.started": "2023-06-23T05:12:47.552512Z"
    },
    "trusted": true
   },
   "outputs": [],
   "source": [
    "def model_evaluation(model):\n",
    "    model.fit(X_train,y_train)\n",
    "    y_pred = model.predict(X_test_2)\n",
    "    \n",
    "    accuracy = accuracy_score(y_test_2, y_pred)\n",
    "    recall = recall_score(y_test_2, y_pred)\n",
    "    precision = precision_score(y_test_2, y_pred)\n",
    "    print(\"Recall: \", recall)\n",
    "    print(\"Precision: \", precision)\n",
    "    print(\"Accuracy: \", accuracy)\n",
    "    \n",
    "    cross = pd.crosstab(pd.Series(y_test_2, name='Actual'), pd.Series(y_pred, name='Predicted'))\n",
    "    plt.figure(figsize=(5, 5))\n",
    "    sns.heatmap(cross, annot=True,fmt='d', cmap=\"YlGnBu\")\n",
    "    plt.show()\n",
    "    \n",
    "    return {'Recall' : recall}"
   ]
  },
  {
   "cell_type": "code",
   "execution_count": 28,
   "metadata": {
    "execution": {
     "iopub.execute_input": "2023-06-23T05:12:47.563813Z",
     "iopub.status.busy": "2023-06-23T05:12:47.563399Z",
     "iopub.status.idle": "2023-06-23T05:12:47.578134Z",
     "shell.execute_reply": "2023-06-23T05:12:47.577021Z",
     "shell.execute_reply.started": "2023-06-23T05:12:47.563772Z"
    },
    "trusted": true
   },
   "outputs": [],
   "source": [
    "results = {}"
   ]
  },
  {
   "cell_type": "markdown",
   "metadata": {},
   "source": [
    "## Random Forest Model"
   ]
  },
  {
   "cell_type": "code",
   "execution_count": 30,
   "metadata": {
    "execution": {
     "iopub.execute_input": "2023-06-23T05:12:47.580181Z",
     "iopub.status.busy": "2023-06-23T05:12:47.579711Z",
     "iopub.status.idle": "2023-06-23T05:13:41.730513Z",
     "shell.execute_reply": "2023-06-23T05:13:41.729651Z",
     "shell.execute_reply.started": "2023-06-23T05:12:47.580138Z"
    },
    "trusted": true
   },
   "outputs": [],
   "source": [
    "from sklearn.ensemble import RandomForestClassifier\n",
    "\n",
    "rf = RandomForestClassifier(random_state=11)\n"
   ]
  },
  {
   "cell_type": "code",
   "execution_count": 32,
   "metadata": {},
   "outputs": [
    {
     "data": {
      "text/plain": [
       "['../models/random_forest_model.pkl']"
      ]
     },
     "execution_count": 32,
     "metadata": {},
     "output_type": "execute_result"
    }
   ],
   "source": [
    "import joblib\n",
    "\n",
    "joblib.dump(clf, '../models/random_forest_model.pkl')"
   ]
  },
  {
   "cell_type": "code",
   "execution_count": 29,
   "metadata": {},
   "outputs": [
    {
     "name": "stdout",
     "output_type": "stream",
     "text": [
      "Recall:  0.9570602974458454\n",
      "Precision:  0.9650359624279223\n",
      "Accuracy:  0.9353639040807741\n"
     ]
    },
    {
     "data": {
      "image/png": "[encoded data removed]",
      "text/plain": [
       "<Figure size 360x360 with 2 Axes>"
      ]
     },
     "metadata": {},
     "output_type": "display_data"
    }
   ],
   "source": [
    "\n",
    "results['Random Forest Model'] = model_evaluation(rf)"
   ]
  },
  {
   "cell_type": "markdown",
   "metadata": {},
   "source": [
    "## Visualizing the rules present in the tree"
   ]
  },
  {
   "cell_type": "code",
   "execution_count": 31,
   "metadata": {
    "execution": {
     "iopub.execute_input": "2023-06-23T05:13:41.732524Z",
     "iopub.status.busy": "2023-06-23T05:13:41.731747Z",
     "iopub.status.idle": "2023-06-23T05:13:41.763275Z",
     "shell.execute_reply": "2023-06-23T05:13:41.762134Z",
     "shell.execute_reply.started": "2023-06-23T05:13:41.732488Z"
    },
    "trusted": true
   },
   "outputs": [
    {
     "ename": "AttributeError",
     "evalue": "'RandomForestClassifier' object has no attribute 'estimators_'",
     "output_type": "error",
     "traceback": [
      "\u001b[1;31m---------------------------------------------------------------------------\u001b[0m",
      "\u001b[1;31mAttributeError\u001b[0m                            Traceback (most recent call last)",
      "Input \u001b[1;32mIn [31]\u001b[0m, in \u001b[0;36m<cell line: 4>\u001b[1;34m()\u001b[0m\n\u001b[0;32m      1\u001b[0m \u001b[38;5;28;01mfrom\u001b[39;00m \u001b[38;5;21;01msklearn\u001b[39;00m\u001b[38;5;21;01m.\u001b[39;00m\u001b[38;5;21;01mtree\u001b[39;00m \u001b[38;5;28;01mimport\u001b[39;00m export_text\n\u001b[0;32m      2\u001b[0m feature_names \u001b[38;5;241m=\u001b[39m \u001b[38;5;28mlist\u001b[39m(X\u001b[38;5;241m.\u001b[39mcolumns)\n\u001b[1;32m----> 4\u001b[0m \u001b[38;5;28mprint\u001b[39m(export_text(\u001b[43mrf\u001b[49m\u001b[38;5;241;43m.\u001b[39;49m\u001b[43mestimators_\u001b[49m[\u001b[38;5;241m99\u001b[39m],feature_names\u001b[38;5;241m=\u001b[39mfeature_names))\n",
      "\u001b[1;31mAttributeError\u001b[0m: 'RandomForestClassifier' object has no attribute 'estimators_'"
     ]
    }
   ],
   "source": [
    "from sklearn.tree import export_text\n",
    "feature_names = list(X.columns)\n",
    "\n",
    "print(export_text(rf.estimators_[99],feature_names=feature_names))"
   ]
  },
  {
   "cell_type": "code",
   "execution_count": null,
   "metadata": {
    "execution": {
     "iopub.execute_input": "2023-06-23T05:13:41.765882Z",
     "iopub.status.busy": "2023-06-23T05:13:41.764669Z",
     "iopub.status.idle": "2023-06-23T05:14:55.824774Z",
     "shell.execute_reply": "2023-06-23T05:14:55.823684Z",
     "shell.execute_reply.started": "2023-06-23T05:13:41.765844Z"
    },
    "trusted": true
   },
   "outputs": [],
   "source": [
    "from xgboost import XGBClassifier\n",
    "\n",
    "xgbc = XGBClassifier()\n",
    "\n",
    "results['XGBoost Classifier'] = model_evaluation(xgbc)"
   ]
  },
  {
   "cell_type": "code",
   "execution_count": null,
   "metadata": {
    "execution": {
     "iopub.execute_input": "2023-06-23T05:14:55.827298Z",
     "iopub.status.busy": "2023-06-23T05:14:55.826238Z",
     "iopub.status.idle": "2023-06-23T05:15:31.241278Z",
     "shell.execute_reply": "2023-06-23T05:15:31.23996Z",
     "shell.execute_reply.started": "2023-06-23T05:14:55.827239Z"
    },
    "trusted": true
   },
   "outputs": [],
   "source": [
    "viz_model = dtreeviz.model(xgbc,tree_index=1,\n",
    "                           X_train=X_train, y_train=y_train, \n",
    "                           feature_names=feature_names)  \n",
    "viz_model.view()"
   ]
  },
  {
   "cell_type": "code",
   "execution_count": null,
   "metadata": {
    "execution": {
     "iopub.execute_input": "2023-06-23T05:15:31.243094Z",
     "iopub.status.busy": "2023-06-23T05:15:31.242749Z",
     "iopub.status.idle": "2023-06-23T05:15:34.805787Z",
     "shell.execute_reply": "2023-06-23T05:15:34.804624Z",
     "shell.execute_reply.started": "2023-06-23T05:15:31.243064Z"
    },
    "trusted": true
   },
   "outputs": [],
   "source": [
    "from lightgbm import LGBMClassifier\n",
    "\n",
    "lgbc = LGBMClassifier()\n",
    "\n",
    "results['Light GBM Classifier'] = model_evaluation(lgbc)"
   ]
  },
  {
   "cell_type": "code",
   "execution_count": null,
   "metadata": {
    "execution": {
     "iopub.execute_input": "2023-06-23T05:15:34.809825Z",
     "iopub.status.busy": "2023-06-23T05:15:34.80946Z",
     "iopub.status.idle": "2023-06-23T05:15:35.880896Z",
     "shell.execute_reply": "2023-06-23T05:15:35.879747Z",
     "shell.execute_reply.started": "2023-06-23T05:15:34.809794Z"
    },
    "trusted": true
   },
   "outputs": [],
   "source": [
    "import lightgbm\n",
    "\n",
    "lightgbm.plot_tree(lgbc,figsize = (20,12))\n",
    "plt.show()"
   ]
  },
  {
   "cell_type": "code",
   "execution_count": null,
   "metadata": {
    "execution": {
     "iopub.execute_input": "2023-06-23T05:15:35.888437Z",
     "iopub.status.busy": "2023-06-23T05:15:35.887743Z",
     "iopub.status.idle": "2023-06-23T05:15:35.900438Z",
     "shell.execute_reply": "2023-06-23T05:15:35.899318Z",
     "shell.execute_reply.started": "2023-06-23T05:15:35.888394Z"
    },
    "trusted": true
   },
   "outputs": [],
   "source": [
    "comparision = pd.DataFrame(results)\n",
    "comparision"
   ]
  },
  {
   "cell_type": "markdown",
   "metadata": {},
   "source": [
    "## Hypothesis testing:\n",
    "#### Wilcoxon rank sum test:\n",
    "* The Wilcoxon rank sum test is a non-parametric test, which means that it does not assume that the data is normally distributed. The Wilcoxon rank sum test will calculate a Z-statistic and a p-value. The Z-statistic is a measure of how much variation there is between the three recall scores. The p-value is a measure of the probability of getting a result as extreme as the one observed, if the null hypothesis is true. The null hypothesis is the hypothesis that there is no difference in the recall of the three models. If the p-value is less than 0.05, then we can reject the null hypothesis and conclude that there is a statistically significant difference in the recall of the three models.  "
   ]
  },
  {
   "cell_type": "code",
   "execution_count": null,
   "metadata": {
    "execution": {
     "iopub.execute_input": "2023-06-23T05:15:35.90251Z",
     "iopub.status.busy": "2023-06-23T05:15:35.902061Z",
     "iopub.status.idle": "2023-06-23T05:15:35.914585Z",
     "shell.execute_reply": "2023-06-23T05:15:35.913354Z",
     "shell.execute_reply.started": "2023-06-23T05:15:35.902469Z"
    },
    "trusted": true
   },
   "outputs": [],
   "source": [
    "from scipy.stats import wilcoxon\n",
    "\n",
    "z_statistic, p_value = wilcoxon([comparision.iloc[0][0], comparision.iloc[0][1], comparision.iloc[0][2]])\n",
    "\n",
    "# Print the results\n",
    "print('Z-statistic:', z_statistic)\n",
    "print('p-value:', p_value)\n",
    "\n",
    "# Interpret the results\n",
    "if p_value < 0.05:\n",
    "    print('The difference in the recall of the three models is statistically significant.')\n",
    "else:\n",
    "    print('The difference in the recall of the three models is not statistically significant.')\n"
   ]
  },
  {
   "cell_type": "markdown",
   "metadata": {},
   "source": [
    "* Any of the three models can be applied to identify the important features to predict the cyber attacks."
   ]
  },
  {
   "cell_type": "markdown",
   "metadata": {},
   "source": [
    "## Correlations\n",
    "\n",
    "* To improve our understanding of the variables involved in cyber attack detection, we need to analyze the network data. Correlation diagrams can be helpful in visualizing how different variables are associated with each other and with cyber attacks. Additionally, random forest models can help identify the importance of different features in predicting the target variable (cyber attacks). We can compare the feature rankings from the random forest with the results of the correlation analysis to gain a better understanding of the key features to focus on for effective cyber attack detection."
   ]
  },
  {
   "cell_type": "code",
   "execution_count": null,
   "metadata": {
    "execution": {
     "iopub.execute_input": "2023-06-23T05:15:35.916126Z",
     "iopub.status.busy": "2023-06-23T05:15:35.915804Z",
     "iopub.status.idle": "2023-06-23T05:15:39.811644Z",
     "shell.execute_reply": "2023-06-23T05:15:39.810562Z",
     "shell.execute_reply.started": "2023-06-23T05:15:35.916098Z"
    },
    "trusted": true
   },
   "outputs": [],
   "source": [
    "plt.figure(figsize=(12, 10))\n",
    "mask = np.triu(np.ones_like(df.corr(), dtype=np.bool))\n",
    "sns.heatmap(df.corr(),vmin=-1, vmax=1,cmap='BrBG', mask=mask)\n",
    "plt.show()"
   ]
  },
  {
   "cell_type": "markdown",
   "metadata": {},
   "source": [
    "### Correlation of variables with cyber attack (label)"
   ]
  },
  {
   "cell_type": "code",
   "execution_count": null,
   "metadata": {
    "execution": {
     "iopub.execute_input": "2023-06-23T05:15:39.814252Z",
     "iopub.status.busy": "2023-06-23T05:15:39.813591Z",
     "iopub.status.idle": "2023-06-23T05:15:41.974126Z",
     "shell.execute_reply": "2023-06-23T05:15:41.973282Z",
     "shell.execute_reply.started": "2023-06-23T05:15:39.814212Z"
    },
    "trusted": true
   },
   "outputs": [],
   "source": [
    "plt.figure(figsize=(10, 10))\n",
    "heatmap = sns.heatmap(df.corr()[['label']].sort_values(by='label', ascending=False), vmin=-1, vmax=1, annot=True, cmap='BrBG')\n",
    "heatmap.set_title('Features Correlating with the Label', fontdict={'fontsize':18}, pad=16)\n",
    "plt.show()"
   ]
  },
  {
   "cell_type": "markdown",
   "metadata": {},
   "source": [
    "### The following variables are positively correlated with cyber attacks:\n",
    "\n",
    "* sttl: Source to destination time to live value.\n",
    "* ct_state_ttl and state: These features reflect various stages of TCP connections and may be related to port scanning, SYN flood, or DDoS attacks.\n",
    "* ct_dst_sport_ltm: This feature measures the number of connections from the same source IP to the same destination port in a short time period.\n",
    "* rate: This feature may represent various types of traffic rates or frequencies. \n",
    "\n",
    "### The following variables are negatively correlated with cyber attacks:\n",
    "\n",
    "* swin\n",
    "* dload"
   ]
  },
  {
   "cell_type": "markdown",
   "metadata": {},
   "source": [
    "## Feature Ranking from Random Forest"
   ]
  },
  {
   "cell_type": "code",
   "execution_count": null,
   "metadata": {
    "execution": {
     "iopub.execute_input": "2023-06-23T05:15:41.976008Z",
     "iopub.status.busy": "2023-06-23T05:15:41.975208Z",
     "iopub.status.idle": "2023-06-23T05:15:42.025384Z",
     "shell.execute_reply": "2023-06-23T05:15:42.024424Z",
     "shell.execute_reply.started": "2023-06-23T05:15:41.975977Z"
    },
    "trusted": true
   },
   "outputs": [],
   "source": [
    "feature_imp = pd.DataFrame({'Name':X.columns, 'Importance':rf.feature_importances_})\n",
    "\n",
    "feature_imp = feature_imp.sort_values('Importance',ascending=False).reset_index(drop=True)\n",
    "\n",
    "feature_imp[:10].style.background_gradient()"
   ]
  },
  {
   "cell_type": "code",
   "execution_count": null,
   "metadata": {
    "execution": {
     "iopub.execute_input": "2023-06-23T05:15:42.026778Z",
     "iopub.status.busy": "2023-06-23T05:15:42.026501Z",
     "iopub.status.idle": "2023-06-23T05:15:42.472942Z",
     "shell.execute_reply": "2023-06-23T05:15:42.471709Z",
     "shell.execute_reply.started": "2023-06-23T05:15:42.026754Z"
    },
    "trusted": true
   },
   "outputs": [],
   "source": [
    "feat_importances = pd.Series(rf.feature_importances_, index=X.columns)\n",
    "feat_importances.nlargest(20).plot(kind='barh',color=['g','b']*5)\n",
    "plt.show()"
   ]
  },
  {
   "cell_type": "markdown",
   "metadata": {},
   "source": [
    "### Let's select only the top 10 features and find their associations with the type of cyber attack.\n"
   ]
  },
  {
   "cell_type": "code",
   "execution_count": null,
   "metadata": {
    "execution": {
     "iopub.execute_input": "2023-06-23T05:15:42.47456Z",
     "iopub.status.busy": "2023-06-23T05:15:42.474231Z",
     "iopub.status.idle": "2023-06-23T05:15:42.48215Z",
     "shell.execute_reply": "2023-06-23T05:15:42.481324Z",
     "shell.execute_reply.started": "2023-06-23T05:15:42.474532Z"
    },
    "trusted": true
   },
   "outputs": [],
   "source": [
    "top10= feature_imp.Name[:10].tolist()\n",
    "top10"
   ]
  },
  {
   "cell_type": "code",
   "execution_count": null,
   "metadata": {
    "execution": {
     "iopub.execute_input": "2023-06-23T05:15:42.4838Z",
     "iopub.status.busy": "2023-06-23T05:15:42.483468Z",
     "iopub.status.idle": "2023-06-23T05:16:18.824373Z",
     "shell.execute_reply": "2023-06-23T05:16:18.823323Z",
     "shell.execute_reply.started": "2023-06-23T05:15:42.48377Z"
    },
    "trusted": true
   },
   "outputs": [],
   "source": [
    "X = df[top10]\n",
    "y = df['label'].values\n",
    "\n",
    "rf_top10 = RandomForestClassifier(random_state=11)\n",
    "\n",
    "X_train, X_test, y_train, y_test = train_test_split(X, y, test_size=0.3, random_state=11)\n",
    "\n",
    "rf_top10.fit(X_train, y_train)\n",
    "\n",
    "y_pred = rf_top10.predict(X_test)\n",
    "\n",
    "acc = accuracy_score(y_test, y_pred)\n",
    "print(\"Accuracy: \", acc)\n",
    " "
   ]
  },
  {
   "cell_type": "code",
   "execution_count": null,
   "metadata": {
    "execution": {
     "iopub.execute_input": "2023-06-23T05:16:18.826616Z",
     "iopub.status.busy": "2023-06-23T05:16:18.825951Z",
     "iopub.status.idle": "2023-06-23T05:16:50.790248Z",
     "shell.execute_reply": "2023-06-23T05:16:50.789029Z",
     "shell.execute_reply.started": "2023-06-23T05:16:18.826574Z"
    },
    "trusted": true
   },
   "outputs": [],
   "source": [
    "\n",
    "top10= feature_imp.Name[:10].tolist()\n",
    "\n",
    "attack_names = np.array(df['attack_cat'].unique())\n",
    "\n",
    "X_top = df.loc[:, df.columns.isin(top10)]\n",
    "y_top = pd.factorize(df['attack_cat'])[0]\n",
    "\n",
    "\n",
    "clf_top10 = DecisionTreeClassifier(max_depth=6)\n",
    "\n",
    "X_train_top, X_test_top, y_train_top, y_test_top = train_test_split(X_top, y_top, test_size=0.3, random_state=11)\n",
    "\n",
    "clf_top10.fit(X_train_top, y_train_top)\n",
    "\n",
    "viz_model = dtreeviz.model(clf_top10,\n",
    "                           X_train=X_train_top, y_train=y_train_top, \n",
    "                           class_names=attack_names,\n",
    "                           feature_names=top10)\n",
    "\n",
    "viz_model.view(fancy=False,scale=1) "
   ]
  },
  {
   "cell_type": "markdown",
   "metadata": {},
   "source": [
    "## Random Forest With Attack Category As the Prediction Labels\n"
   ]
  },
  {
   "cell_type": "code",
   "execution_count": null,
   "metadata": {
    "execution": {
     "iopub.execute_input": "2023-06-23T05:16:50.791857Z",
     "iopub.status.busy": "2023-06-23T05:16:50.791548Z",
     "iopub.status.idle": "2023-06-23T05:17:31.376365Z",
     "shell.execute_reply": "2023-06-23T05:17:31.375176Z",
     "shell.execute_reply.started": "2023-06-23T05:16:50.791829Z"
    },
    "trusted": true
   },
   "outputs": [],
   "source": [
    "top10= feature_imp.Name[:10].tolist()\n",
    "\n",
    "X = df.loc[:, df.columns.isin(top10)]\n",
    "\n",
    "y = df['attack_cat'].values\n",
    "\n",
    "X_train, X_test, y_train, y_test = train_test_split(X, y, test_size=0.3, random_state=11)\n",
    "\n",
    "rf = RandomForestClassifier(random_state=11,min_samples_leaf= 1, min_samples_split= 5, n_estimators= 100)\n",
    "\n",
    "rf.fit(X_train, y_train)\n",
    "\n",
    "y_pred = rf.predict(X_test)\n",
    "\n",
    "acc = accuracy_score(y_test, y_pred)\n",
    "print(\"Accuracy: \", acc)\n",
    "\n",
    "cross = pd.crosstab(y_test,  y_pred)\n",
    "plt.figure(figsize=(10, 10))\n",
    "sns.heatmap(cross, annot=True,fmt='d', cmap=\"YlGnBu\")\n",
    "plt.show()\n"
   ]
  },
  {
   "cell_type": "code",
   "execution_count": null,
   "metadata": {
    "execution": {
     "iopub.execute_input": "2023-06-23T05:17:31.378896Z",
     "iopub.status.busy": "2023-06-23T05:17:31.378024Z",
     "iopub.status.idle": "2023-06-23T05:17:33.915348Z",
     "shell.execute_reply": "2023-06-23T05:17:33.914542Z",
     "shell.execute_reply.started": "2023-06-23T05:17:31.378854Z"
    },
    "trusted": true
   },
   "outputs": [],
   "source": [
    "from sklearn.metrics import classification_report\n",
    "print(classification_report(y_test,y_pred))"
   ]
  },
  {
   "cell_type": "markdown",
   "metadata": {},
   "source": [
    "* Generic, Normal, and Exploits attacks have high recalls."
   ]
  },
  {
   "cell_type": "code",
   "execution_count": null,
   "metadata": {
    "execution": {
     "iopub.execute_input": "2023-06-23T05:17:33.917135Z",
     "iopub.status.busy": "2023-06-23T05:17:33.916437Z",
     "iopub.status.idle": "2023-06-23T05:17:37.716397Z",
     "shell.execute_reply": "2023-06-23T05:17:37.715302Z",
     "shell.execute_reply.started": "2023-06-23T05:17:33.917105Z"
    },
    "trusted": true
   },
   "outputs": [],
   "source": [
    "from sklearn.metrics import multilabel_confusion_matrix\n",
    "mcm = multilabel_confusion_matrix(y_test,y_pred)\n",
    "for i,j in zip(mcm,df['attack_cat'].value_counts().index):\n",
    "    plt.subplots(figsize = (5,3))\n",
    "    sns.heatmap(i,annot=True,fmt = 'd',cmap = \"PiYG\")\n",
    "    plt.title(j)"
   ]
  },
  {
   "cell_type": "markdown",
   "metadata": {},
   "source": [
    "* Fuzzers, Reconaissance, and Analysis has true negatives and false negatives."
   ]
  },
  {
   "cell_type": "markdown",
   "metadata": {},
   "source": [
    "## Conclusion\n",
    "\n",
    "* The Random Forest Model is best for cyber attack detection.\n",
    "* Decision Tree Model was used to identify the rules of cyber attack detection.\n",
    "* From this analysis, most important features were identified which has major role in cyber attack detection.\n",
    "* Random Forest Model is performing well in accuracy with both dependent feature, label and attack category."
   ]
  }
 ],
 "metadata": {
  "kaggle": {
   "accelerator": "none",
   "dataSources": [
    {
     "datasetId": 111554,
     "sourceId": 267091,
     "sourceType": "datasetVersion"
    }
   ],
   "dockerImageVersionId": 30497,
   "isGpuEnabled": false,
   "isInternetEnabled": false,
   "language": "python",
   "sourceType": "notebook"
  },
  "kernelspec": {
   "display_name": "base",
   "language": "python",
   "name": "python3"
  },
  "language_info": {
   "codemirror_mode": {
    "name": "ipython",
    "version": 3
   },
   "file_extension": ".py",
   "mimetype": "text/x-python",
   "name": "python",
   "nbconvert_exporter": "python",
   "pygments_lexer": "ipython3",
   "version": "3.9.12"
  }
 },
 "nbformat": 4,
 "nbformat_minor": 4
}
